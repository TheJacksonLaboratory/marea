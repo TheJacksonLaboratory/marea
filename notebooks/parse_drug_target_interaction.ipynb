{
 "cells": [
  {
   "cell_type": "code",
   "execution_count": null,
   "metadata": {
    "collapsed": true
   },
   "outputs": [],
   "source": [
    "import pandas as pd\n",
    "import os\n",
    "import wget\n",
    "import dataframe as df\n",
    "import networkx as nx\n",
    "import matplotlib.pyplot as plt"
   ]
  },
  {
   "cell_type": "markdown",
   "metadata": {},
   "source": [
    "## Download data"
   ]
  },
  {
   "cell_type": "code",
   "execution_count": null,
   "metadata": {
    "collapsed": true
   },
   "outputs": [],
   "source": [
    "url = 'http://unmtid-shinyapps.net/download/drug.target.interaction.tsv.gz'\n",
    "filename = './data/drug.target.interaction.tsv.gz' # path to the file\n",
    "\n",
    "if not os.path.exists(filename):\n",
    "    filename = wget.download(url)"
   ]
  },
  {
   "cell_type": "code",
   "execution_count": null,
   "metadata": {},
   "outputs": [],
   "source": [
    "drug_target = pd.read_csv(filename, sep='\\t', header=0)\n",
    "\n",
    "# preview first few rows of the data\n",
    "drug_target.head()"
   ]
  },
  {
   "cell_type": "code",
   "execution_count": null,
   "metadata": {},
   "outputs": [],
   "source": [
    "number_rows = drug_target.shape[0]\n",
    "number_columns = drug_target.shape[1]\n",
    "print(\"number of rows = \", number_rows)\n",
    "print(\"number of columns = \", number_columns)"
   ]
  },
  {
   "cell_type": "markdown",
   "metadata": {},
   "source": [
    "## Exctract Data only from \"TARGET_CLASS: Kinase\""
   ]
  },
  {
   "cell_type": "code",
   "execution_count": null,
   "metadata": {
    "collapsed": true
   },
   "outputs": [],
   "source": [
    "drug_target_kinase = drug_target.loc[drug_target[\"TARGET_CLASS\"] == \"Kinase\"]"
   ]
  },
  {
   "cell_type": "code",
   "execution_count": null,
   "metadata": {},
   "outputs": [],
   "source": [
    "drug_target_kinase.shape"
   ]
  },
  {
   "cell_type": "code",
   "execution_count": null,
   "metadata": {},
   "outputs": [],
   "source": [
    "drug_target_kinase"
   ]
  },
  {
   "cell_type": "code",
   "execution_count": null,
   "metadata": {},
   "outputs": [],
   "source": [
    "number_drugs = len(drug_target_kinase.DRUG_NAME.unique())\n",
    "number_genes = len(drug_target_kinase.GENE.unique())\n",
    "print(\"number of drugs: \", number_drugs)\n",
    "print(\"number of genes: \", number_genes)"
   ]
  },
  {
   "cell_type": "code",
   "execution_count": null,
   "metadata": {
    "collapsed": true
   },
   "outputs": [],
   "source": [
    "drug = drug_target_kinase[\"DRUG_NAME\"]\n",
    "gene = drug_target_kinase[\"GENE\"]\n",
    "drug_gene = pd.DataFrame(list(zip(drug, gene)),\n",
    "                       columns =['DRUG_NAME', 'Gene'])"
   ]
  },
  {
   "cell_type": "code",
   "execution_count": null,
   "metadata": {
    "collapsed": true
   },
   "outputs": [],
   "source": [
    "drug_gene_unq = drug_gene.drop_duplicates()\n",
    "drug_gene_unq = drug_gene_unq.dropna()"
   ]
  },
  {
   "cell_type": "code",
   "execution_count": null,
   "metadata": {
    "collapsed": true
   },
   "outputs": [],
   "source": [
    "drug_gene_unq.to_csv('./data/drug_gene.csv', sep='\\t', header=True, index=False)"
   ]
  },
  {
   "cell_type": "code",
   "execution_count": null,
   "metadata": {},
   "outputs": [],
   "source": [
    "drug_gene_unq"
   ]
  },
  {
   "cell_type": "code",
   "execution_count": null,
   "metadata": {
    "collapsed": true
   },
   "outputs": [],
   "source": [
    "G = nx.read_edgelist('./data/drug_gene.csv', nodetype=str, delimiter='\\t')"
   ]
  },
  {
   "cell_type": "code",
   "execution_count": null,
   "metadata": {},
   "outputs": [],
   "source": [
    "print(\"number of nodes of the graph = \", G.number_of_nodes())\n",
    "print(\"number of edges of the graph =\", G.number_of_edges())"
   ]
  },
  {
   "cell_type": "code",
   "execution_count": null,
   "metadata": {},
   "outputs": [],
   "source": [
    "plt.figure(7,figsize=(12,12)) \n",
    "nx.draw(G)\n",
    "plt.show()"
   ]
  },
  {
   "cell_type": "code",
   "execution_count": null,
   "metadata": {
    "collapsed": true
   },
   "outputs": [],
   "source": []
  }
 ],
 "metadata": {
  "kernelspec": {
   "display_name": "marea_venv",
   "language": "python",
   "name": "marea_venv"
  },
  "language_info": {
   "codemirror_mode": {
    "name": "ipython",
    "version": 3
   },
   "file_extension": ".py",
   "mimetype": "text/x-python",
   "name": "python",
   "nbconvert_exporter": "python",
   "pygments_lexer": "ipython3",
   "version": "3.8.3"
  }
 },
 "nbformat": 4,
 "nbformat_minor": 2
}
